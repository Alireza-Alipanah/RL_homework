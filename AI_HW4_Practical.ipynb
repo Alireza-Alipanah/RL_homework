{
  "cells": [
    {
      "cell_type": "markdown",
      "metadata": {
        "id": "0MJtQYNJx6Ex"
      },
      "source": [
        "<div align=center>\n",
        "\t\t\n",
        "<font size=5>\n",
        "In the Name of God\n",
        "<font/>\n",
        "<p></p>\n",
        "<br/>\n",
        "<br/>\n",
        "<font color=#FF7500>\n",
        "Sharif University of Technology - Departmenet of Computer Engineering\n",
        "</font>\n",
        "<p></p>\n",
        "<font color=blue>\n",
        "Artifical Intelligence - Dr. Mahdieh Soleimani\n",
        "</font>\n",
        "<br/>\n",
        "<br/>\n",
        "Fall 2022\n",
        "\n",
        "<hr/>\n",
        "<font color=red>\n",
        "Reinforcment Learning Practical Assignment (50 + 10 points)\n",
        "</font>\n",
        "</div>\n",
        "\n",
        "<ul>\n",
        "  <li>Some cell's outputs have not been deleted. you can use these to make sure your implementation is correct.</li>\n",
        "</ul>"
      ]
    },
    {
      "cell_type": "markdown",
      "metadata": {
        "id": "rgA9_usLx6Ey"
      },
      "source": [
        "In this notebook you will use the [openai gym](https://www.gymlibrary.dev/) library to train agents in two different reinforcment learning environments. the first environment is a very simple grid-world with discrete states. The second environment however, has continous states.  \n",
        "make sure to upload your model performance video alongside this notebook. We suggest running this notebook on google colab so that you wont face any package errors."
      ]
    },
    {
      "cell_type": "markdown",
      "metadata": {
        "id": "4uzpGHXRx6Ey"
      },
      "source": [
        "we will first install the necessary packages."
      ]
    },
    {
      "cell_type": "code",
      "execution_count": 1,
      "metadata": {
        "colab": {
          "base_uri": "https://localhost:8080/"
        },
        "id": "XO-JzYynx6Ez",
        "outputId": "06e3653f-b7d1-48ca-d3cb-ff11ebac532e"
      },
      "outputs": [
        {
          "output_type": "stream",
          "name": "stdout",
          "text": [
            "Looking in indexes: https://pypi.org/simple, https://us-python.pkg.dev/colab-wheels/public/simple/\n",
            "Requirement already satisfied: gym==0.26 in /usr/local/lib/python3.8/dist-packages (0.26.0)\n",
            "Requirement already satisfied: cloudpickle>=1.2.0 in /usr/local/lib/python3.8/dist-packages (from gym==0.26) (1.5.0)\n",
            "Requirement already satisfied: gym-notices>=0.0.4 in /usr/local/lib/python3.8/dist-packages (from gym==0.26) (0.0.8)\n",
            "Requirement already satisfied: importlib-metadata>=4.8.0 in /usr/local/lib/python3.8/dist-packages (from gym==0.26) (4.13.0)\n",
            "Requirement already satisfied: numpy>=1.18.0 in /usr/local/lib/python3.8/dist-packages (from gym==0.26) (1.21.6)\n",
            "Requirement already satisfied: zipp>=0.5 in /usr/local/lib/python3.8/dist-packages (from importlib-metadata>=4.8.0->gym==0.26) (3.11.0)\n",
            "Looking in indexes: https://pypi.org/simple, https://us-python.pkg.dev/colab-wheels/public/simple/\n",
            "Requirement already satisfied: imageio in /usr/local/lib/python3.8/dist-packages (2.9.0)\n",
            "Requirement already satisfied: imageio_ffmpeg in /usr/local/lib/python3.8/dist-packages (0.4.7)\n",
            "Requirement already satisfied: pillow in /usr/local/lib/python3.8/dist-packages (from imageio) (7.1.2)\n",
            "Requirement already satisfied: numpy in /usr/local/lib/python3.8/dist-packages (from imageio) (1.21.6)\n",
            "Looking in indexes: https://pypi.org/simple, https://us-python.pkg.dev/colab-wheels/public/simple/\n",
            "Requirement already satisfied: pygame in /usr/local/lib/python3.8/dist-packages (2.1.2)\n",
            "Looking in indexes: https://pypi.org/simple, https://us-python.pkg.dev/colab-wheels/public/simple/\n",
            "Requirement already satisfied: pyglet==1.5.1 in /usr/local/lib/python3.8/dist-packages (1.5.1)\n",
            "Reading package lists... Done\n",
            "Building dependency tree       \n",
            "Reading state information... Done\n",
            "python-opengl is already the newest version (3.1.0+dfsg-1).\n",
            "The following package was automatically installed and is no longer required:\n",
            "  libnvidia-common-460\n",
            "Use 'apt autoremove' to remove it.\n",
            "0 upgraded, 0 newly installed, 0 to remove and 20 not upgraded.\n",
            "Reading package lists... Done\n",
            "Building dependency tree       \n",
            "Reading state information... Done\n",
            "ffmpeg is already the newest version (7:3.4.11-0ubuntu0.1).\n",
            "The following package was automatically installed and is no longer required:\n",
            "  libnvidia-common-460\n",
            "Use 'apt autoremove' to remove it.\n",
            "0 upgraded, 0 newly installed, 0 to remove and 20 not upgraded.\n",
            "Reading package lists... Done\n",
            "Building dependency tree       \n",
            "Reading state information... Done\n",
            "xvfb is already the newest version (2:1.19.6-1ubuntu4.12).\n",
            "The following package was automatically installed and is no longer required:\n",
            "  libnvidia-common-460\n",
            "Use 'apt autoremove' to remove it.\n",
            "0 upgraded, 0 newly installed, 0 to remove and 20 not upgraded.\n",
            "Looking in indexes: https://pypi.org/simple, https://us-python.pkg.dev/colab-wheels/public/simple/\n",
            "Requirement already satisfied: pyvirtualdisplay in /usr/local/lib/python3.8/dist-packages (3.0)\n"
          ]
        }
      ],
      "source": [
        "!pip install gym==0.26\n",
        "!pip install imageio imageio_ffmpeg\n",
        "!pip install pygame\n",
        "!pip install pyglet==1.5.1 \n",
        "!apt install python-opengl\n",
        "!apt install ffmpeg\n",
        "!apt install xvfb\n",
        "!pip3 install pyvirtualdisplay"
      ]
    },
    {
      "cell_type": "markdown",
      "metadata": {
        "id": "vjYtp6cyyXi-"
      },
      "source": [
        "the functions below will be used to make a video of the model performance. It will start the environment and choose the best action based on the given Qtable."
      ]
    },
    {
      "cell_type": "code",
      "execution_count": 2,
      "metadata": {
        "id": "-uB9baAkykMs"
      },
      "outputs": [],
      "source": [
        "from IPython.display import HTML\n",
        "from base64 import b64encode\n",
        "import imageio\n",
        "\n",
        "## comment this part if your not using google colab\n",
        "from pyvirtualdisplay import Display\n",
        "virtual_display = Display(visible=0, size=(1400, 900))\n",
        "virtual_display.start()\n",
        "######################\n",
        "\n",
        "def record_video_frozen_lake_env(env, Qtable, out_directory, fps=1, random_action=False):\n",
        "  images = []  \n",
        "  done = False\n",
        "  state, info = env.reset(seed=random.randint(0,500))\n",
        "  img = env.render()\n",
        "  images.append(img)\n",
        "  while not done:\n",
        "    # Take the action (index) that have the maximum expected future reward given that state\n",
        "    action = np.random.randint(4)  if random_action else np.argmax(Qtable[state][:])\n",
        "    state, reward, done, truncated, info = env.step(action)\n",
        "    img = env.render()\n",
        "    images.append(img)\n",
        "  imageio.mimsave(out_directory, [np.array(img) for i, img in enumerate(images)], fps=fps)\n",
        "\n",
        "def show_video(video_path, video_width = 600):\n",
        "  video_file = open(video_path, \"r+b\").read()\n",
        "  video_url = f\"data:video/mp4;base64,{b64encode(video_file).decode()}\"\n",
        "  return HTML(f\"\"\"<video width={video_width} controls><source src=\"{video_url}\"></video>\"\"\")"
      ]
    },
    {
      "cell_type": "markdown",
      "metadata": {
        "id": "281QULrBtRtK"
      },
      "source": [
        "## Part I: FrozenLake Environment (35 + 10 Points)"
      ]
    },
    {
      "cell_type": "code",
      "execution_count": 3,
      "metadata": {
        "id": "k2zC-9XIoYEL"
      },
      "outputs": [],
      "source": [
        "import numpy as np\n",
        "import gym\n",
        "import random\n",
        "from tqdm.notebook import tqdm"
      ]
    },
    {
      "cell_type": "markdown",
      "metadata": {
        "id": "clVAINP0xO17"
      },
      "source": [
        "In this exercise, we want to solve the FrozenLake environment. It is a simple grid-world environment where we have to reach a goal state while avoiding holes.  \n",
        "You can read more about this environment [here](https://www.gymlibrary.dev/environments/toy_text/frozen_lake/)"
      ]
    },
    {
      "cell_type": "markdown",
      "metadata": {
        "id": "YpWqhWmdy0rp"
      },
      "source": [
        "**[Question 1 (1 Points)]**  \n",
        "Create a <u>slippery</u> FrozenLake environment of size <u>4x4</u>"
      ]
    },
    {
      "cell_type": "code",
      "execution_count": 4,
      "metadata": {
        "id": "VcYInB5gzszF"
      },
      "outputs": [],
      "source": [
        "env = gym.make(\"FrozenLake-v1\", map_name=\"4x4\", is_slippery=True, render_mode='rgb_array')"
      ]
    },
    {
      "cell_type": "markdown",
      "metadata": {
        "id": "EfnH3pYryxwf"
      },
      "source": [
        "Let's run a random policy in this environement to get a better understanding of it."
      ]
    },
    {
      "cell_type": "code",
      "execution_count": 5,
      "metadata": {
        "id": "dzYhV3GSyxGq",
        "colab": {
          "base_uri": "https://localhost:8080/",
          "height": 621
        },
        "outputId": "326344af-40c8-4fef-a09b-2ea36a3d7cc0"
      },
      "outputs": [
        {
          "output_type": "execute_result",
          "data": {
            "text/plain": [
              "<IPython.core.display.HTML object>"
            ],
            "text/html": [
              "<video width=600 controls><source src=\"data:video/mp4;base64,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\"></video>"
            ]
          },
          "metadata": {},
          "execution_count": 5
        }
      ],
      "source": [
        "record_video_frozen_lake_env(env, None, 'frozenlake_random.mp4', fps=1, random_action=True)\n",
        "show_video('frozenlake_random.mp4', video_width = 600)"
      ]
    },
    {
      "cell_type": "markdown",
      "metadata": {
        "id": "wze5Ukspx1G0"
      },
      "source": [
        "**[Question 2 (1 Points)]**  \n",
        "Briefly describe the state space, action space, and reward function of this environment.\n",
        "\n",
        "**Answer:**  \n",
        "State space: 16 states depending on the location of the agent</br>\n",
        "Action space: Four actions of right, left, up, down for every state<br>\n",
        "Reward function (according to the documentation): goal=1, hole=0, frozen=0 "
      ]
    },
    {
      "cell_type": "markdown",
      "metadata": {
        "id": "JmelLdEG0Pjr"
      },
      "source": [
        "**[Question 3 (2 Points)]**  \n",
        "Complete the code for `initialize_q_table` function. It should create a Q-table of size (state_space, action_space) and initializes it. You are free to use whichever initialization you want (a good starting point is to initialize it with all zeros)"
      ]
    },
    {
      "cell_type": "code",
      "execution_count": 6,
      "metadata": {
        "id": "_BKgfgqI0XWW"
      },
      "outputs": [],
      "source": [
        "def initialize_q_table(state_space, action_space):\n",
        "  Qtable = np.zeros((state_space ** 2, action_space))\n",
        "  return Qtable"
      ]
    },
    {
      "cell_type": "code",
      "execution_count": 7,
      "metadata": {
        "id": "lWeutJTb0qUX"
      },
      "outputs": [],
      "source": [
        "Qtable = initialize_q_table(4, 4)"
      ]
    },
    {
      "cell_type": "markdown",
      "metadata": {
        "id": "9NHYE1Q2rMSU"
      },
      "source": [
        "**[Question 4 (2 Points)]**  \n",
        "Complete the code for `epsilon_greedy_policy` function. It should select the best action according to the current Q-function with probability $1-\\varepsilon$ and select a random action with probability $\\varepsilon$."
      ]
    },
    {
      "cell_type": "code",
      "execution_count": 8,
      "metadata": {
        "id": "YbOjqoTRrAqw"
      },
      "outputs": [],
      "source": [
        "def epsilon_greedy_policy(Qtable, state, epsilon):\n",
        "  if np.random.rand() <= 1 - epsilon:\n",
        "    action = np.argmax(Qtable[state])\n",
        "  else:\n",
        "    action = np.random.randint(Qtable.shape[1])\n",
        "  return action"
      ]
    },
    {
      "cell_type": "markdown",
      "metadata": {
        "id": "Cgdt3n_ftE9E"
      },
      "source": [
        "**[Question 5 (4 Points)]**  \n",
        "You need to choose appropriate hyperparameters for the agent to learn.\n",
        "\n",
        "In particular, you must find a suitable learning rate and exploration parameters. To facilitate exploration, a common practice is to start with a high exploration rate ($\\varepsilon$) and gradually decrease it as the agent gets better. To implement this, you need to specify the starting exploration rate (`max_epsilon`), the final exploration rate (`min_epsilon`) and a decay rate which reduces the exploration rate after each update (see the `train` function below)."
      ]
    },
    {
      "cell_type": "code",
      "execution_count": 9,
      "metadata": {
        "id": "SrbwYgKZtFWc"
      },
      "outputs": [],
      "source": [
        "# Training parameters\n",
        "n_training_episodes = 50_000  # Total training episodes\n",
        "n_eval_episodes = 10_000\n",
        "learning_rate = 0.8          # Learning rate\n",
        "\n",
        "# Environment parameters\n",
        "max_steps = 99               # Max steps per episode\n",
        "gamma = 0.95                 # Discounting rate\n",
        "\n",
        "# Exploration parameters\n",
        "max_epsilon = 1.0             # Exploration probability at start\n",
        "min_epsilon = 0.01            # Minimum exploration probability \n",
        "decay_rate = 0.002            # Exponential decay rate for exploration prob"
      ]
    },
    {
      "cell_type": "markdown",
      "metadata": {
        "id": "y2hySBMAvmPk"
      },
      "source": [
        "**[Question 6 (10 Points)]**  \n",
        "Complete the `train` function which updates `Qtable` using the Q-learning update rule."
      ]
    },
    {
      "cell_type": "code",
      "execution_count": 10,
      "metadata": {
        "id": "FCqTlP-7vnxs"
      },
      "outputs": [],
      "source": [
        "def train(n_training_episodes, min_epsilon, max_epsilon, decay_rate, env, max_steps, Qtable):\n",
        "  for episode in tqdm(range(n_training_episodes)):\n",
        "    # Adjust epsilon\n",
        "    epsilon = min_epsilon + (max_epsilon - min_epsilon)*np.exp(-decay_rate*episode)\n",
        "    # Reset the environment\n",
        "    state, info = 0, env.reset()\n",
        "    step = 0\n",
        "    done = False\n",
        "\n",
        "    # repeat\n",
        "    for step in range(max_steps):\n",
        "      # You must:\n",
        "      # Take action A_t and observe R_{t+1}, S_{t+1}\n",
        "      # Update the Qtable with (S_t, A_t, R_{t+1}, S_{t+1})\n",
        "      # Be careful about episode termination and truncation\n",
        "      action = epsilon_greedy_policy(Qtable, state, epsilon)\n",
        "      observation, reward, terminated, truncated, info = env.step(action)\n",
        "      Qtable[state][action] += learning_rate * (reward + gamma * np.max(Qtable[observation]) - Qtable[state][action])\n",
        "      if terminated:\n",
        "        break\n",
        "      state = observation\n",
        "  return Qtable"
      ]
    },
    {
      "cell_type": "markdown",
      "metadata": {
        "id": "_sFV4Kn6zO8G"
      },
      "source": [
        "We are now ready to train our agent."
      ]
    },
    {
      "cell_type": "code",
      "execution_count": 11,
      "metadata": {
        "colab": {
          "base_uri": "https://localhost:8080/",
          "height": 49,
          "referenced_widgets": [
            "0ae8a0af9cd74161893554c95ae17df2",
            "3b5192bb6d084ba48c6bc5e6fdf91e70",
            "9897a58f4d4a4953bce0deed2fd60a07",
            "cc78f8d3b53f4e1b86ec668d985955d6",
            "ed7002426d904d378ba69b2be43b2258",
            "a07cd11dbb59481bab7386b9e5b94ae5",
            "699ab3a95c30486cb4528f66298fa03e",
            "583dc41a71f343ef81a7b6237db4ae75",
            "9290c2f666d341829723c34102ac6dab",
            "b6914df2512742cda433835f5b1b17e7",
            "871c657ec76447279799c74a72301c87"
          ]
        },
        "id": "jduZzTMvzLBx",
        "outputId": "970d9ecd-7e94-43ef-f34a-d5c96a8b96ff"
      },
      "outputs": [
        {
          "output_type": "display_data",
          "data": {
            "text/plain": [
              "  0%|          | 0/50000 [00:00<?, ?it/s]"
            ],
            "application/vnd.jupyter.widget-view+json": {
              "version_major": 2,
              "version_minor": 0,
              "model_id": "0ae8a0af9cd74161893554c95ae17df2"
            }
          },
          "metadata": {}
        }
      ],
      "source": [
        "Qtable = initialize_q_table(4, 4)\n",
        "Qtable_trained = train(n_training_episodes, min_epsilon, max_epsilon, decay_rate, env, max_steps, Qtable)"
      ]
    },
    {
      "cell_type": "markdown",
      "metadata": {
        "id": "OUlpdnRx75g9"
      },
      "source": [
        "Now, we will evaluate our agent. You don't need to write any code, just run the following cells as they are."
      ]
    },
    {
      "cell_type": "code",
      "execution_count": 12,
      "metadata": {
        "id": "BbQRzYEb8C3u"
      },
      "outputs": [],
      "source": [
        "def evaluate_agent(env, max_steps, n_eval_episodes, Q):\n",
        "  \"\"\"\n",
        "  Evaluate the agent for ``n_eval_episodes`` episodes and returns average reward and std of reward.\n",
        "  :param env: The evaluation environment\n",
        "  :param n_eval_episodes: Number of episode to evaluate the agent\n",
        "  :param Q: The Q-table\n",
        "  \"\"\"\n",
        "  episode_rewards = []\n",
        "  for episode in tqdm(range(n_eval_episodes)):\n",
        "    state, info = env.reset()\n",
        "    step = 0\n",
        "    terminated = False\n",
        "    total_rewards_ep = 0\n",
        "    \n",
        "    for step in range(max_steps):\n",
        "      action = np.argmax(Q[state][:])\n",
        "      new_state, reward, terminated, truncated, info = env.step(action)\n",
        "      total_rewards_ep += reward\n",
        "        \n",
        "      if terminated:\n",
        "        break\n",
        "      state = new_state\n",
        "    episode_rewards.append(total_rewards_ep)\n",
        "  mean_reward = np.mean(episode_rewards)\n",
        "  std_reward = np.std(episode_rewards)\n",
        "\n",
        "  return mean_reward, std_reward"
      ]
    },
    {
      "cell_type": "code",
      "execution_count": 13,
      "metadata": {
        "id": "61-viEdx8vbC",
        "colab": {
          "base_uri": "https://localhost:8080/",
          "height": 66,
          "referenced_widgets": [
            "bb3c38cf237849a6a213a7e3d6fcfb19",
            "b819cde69694454b8899cbbce79b76ae",
            "d34058a757f745ee9c30e2d489340c35",
            "b540fc633e94437bb146ca9ebffb2204",
            "9ccb8635af7f4bd09b9ac84ab12d1e50",
            "1dd61977bf974fe5983bd97db90761c5",
            "55b1812068c445ea89373ff5815ac1f5",
            "093a6adb10154edaa494e761708e0047",
            "55591ec95ff24d5a9a042ed85c37d06c",
            "2f62e8832c0849d680de63dd6dd0f667",
            "f775821f4e9643c7a1d00281a394474a"
          ]
        },
        "outputId": "ae797595-6bdd-460e-a9ad-66566d8dc61d"
      },
      "outputs": [
        {
          "output_type": "display_data",
          "data": {
            "text/plain": [
              "  0%|          | 0/10000 [00:00<?, ?it/s]"
            ],
            "application/vnd.jupyter.widget-view+json": {
              "version_major": 2,
              "version_minor": 0,
              "model_id": "bb3c38cf237849a6a213a7e3d6fcfb19"
            }
          },
          "metadata": {}
        },
        {
          "output_type": "stream",
          "name": "stdout",
          "text": [
            "Mean_reward=0.71 +/- 0.45\n"
          ]
        }
      ],
      "source": [
        "mean_reward, std_reward = evaluate_agent(env, max_steps, n_eval_episodes, Qtable_trained)\n",
        "print(f\"Mean_reward={mean_reward:.2f} +/- {std_reward:.2f}\") # should be around 0.65"
      ]
    },
    {
      "cell_type": "markdown",
      "metadata": {
        "id": "8Oj-u9bi7Vct"
      },
      "source": [
        "Now let's see how well our model is doing."
      ]
    },
    {
      "cell_type": "code",
      "execution_count": 14,
      "metadata": {
        "id": "NqP2b15M7U6Y",
        "colab": {
          "base_uri": "https://localhost:8080/",
          "height": 621
        },
        "outputId": "7ca991a3-0c16-41cc-bd27-bad56012471f"
      },
      "outputs": [
        {
          "output_type": "execute_result",
          "data": {
            "text/plain": [
              "<IPython.core.display.HTML object>"
            ],
            "text/html": [
              "<video width=600 controls><source src=\"data:video/mp4;base64,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\"></video>"
            ]
          },
          "metadata": {},
          "execution_count": 14
        }
      ],
      "source": [
        "record_video_frozen_lake_env(env, Qtable_trained, 'frozenlake_trained.mp4', fps=1)\n",
        "show_video('frozenlake_trained.mp4', video_width = 600)"
      ]
    },
    {
      "cell_type": "markdown",
      "metadata": {
        "id": "nWvKPz_0zlhR"
      },
      "source": [
        "Next, we will take a look at the Q-function that was learned."
      ]
    },
    {
      "cell_type": "code",
      "execution_count": 15,
      "metadata": {
        "id": "X8yC8f4Mzc-h",
        "colab": {
          "base_uri": "https://localhost:8080/"
        },
        "outputId": "ddc0afb4-5149-46d3-8705-6ff956f2d35c"
      },
      "outputs": [
        {
          "output_type": "stream",
          "name": "stdout",
          "text": [
            "[[4.59782365e-01 4.22539020e-02 3.52572688e-02 1.13298227e-01]\n",
            " [3.87698078e-03 4.86490616e-04 5.09290735e-03 1.35531094e-01]\n",
            " [1.96183751e-02 4.75242802e-03 1.12469171e-01 2.56794417e-02]\n",
            " [1.28722688e-02 4.11975194e-03 1.42046792e-02 3.69685513e-02]\n",
            " [5.74466814e-01 3.37043420e-02 1.04126165e-01 4.38790225e-02]\n",
            " [0.00000000e+00 0.00000000e+00 0.00000000e+00 0.00000000e+00]\n",
            " [7.39720941e-02 1.55472931e-06 2.01914901e-06 3.93526805e-06]\n",
            " [0.00000000e+00 0.00000000e+00 0.00000000e+00 0.00000000e+00]\n",
            " [1.07972921e-02 1.43599311e-02 1.36059659e-02 5.91631864e-01]\n",
            " [7.01519656e-03 4.32452239e-01 6.34956758e-06 8.54817153e-03]\n",
            " [7.38561219e-01 3.50999337e-05 5.58305900e-03 2.58554014e-04]\n",
            " [0.00000000e+00 0.00000000e+00 0.00000000e+00 0.00000000e+00]\n",
            " [0.00000000e+00 0.00000000e+00 0.00000000e+00 0.00000000e+00]\n",
            " [1.73798550e-02 1.20969155e-02 7.49530940e-01 1.68623997e-02]\n",
            " [3.30413618e-01 9.72894982e-01 7.63617478e-01 2.91247570e-01]\n",
            " [0.00000000e+00 0.00000000e+00 0.00000000e+00 0.00000000e+00]]\n"
          ]
        }
      ],
      "source": [
        "print(Qtable_trained)"
      ]
    },
    {
      "cell_type": "markdown",
      "metadata": {
        "id": "W_uLOGVo0mCv"
      },
      "source": [
        "**[Question 7 (5 Points)]**  \n",
        "Assume that `Qtable_trained` is the correct Q-function for the final epsilon-greedy policy that was used in training. What is the value function that corresponds to this policy? Write down the relation between $V_\\pi$ and $Q_\\pi$ and use it to complete the following code block."
      ]
    },
    {
      "cell_type": "markdown",
      "metadata": {
        "id": "QV1yNSlX4Xhn"
      },
      "source": [
        "**Answer:**\n",
        "$$V_\\pi (s) = \\max_{a}Q_\\pi(s, a)$$"
      ]
    },
    {
      "cell_type": "code",
      "execution_count": 16,
      "metadata": {
        "id": "tgvG3JPb4q4o"
      },
      "outputs": [],
      "source": [
        "Vtable_trained = np.max(Qtable, axis=1)"
      ]
    },
    {
      "cell_type": "markdown",
      "metadata": {
        "id": "hrBSciQw4wBD"
      },
      "source": [
        "Take a look at the value function"
      ]
    },
    {
      "cell_type": "code",
      "execution_count": 17,
      "metadata": {
        "id": "ZZ7aWMbOpAwZ",
        "colab": {
          "base_uri": "https://localhost:8080/"
        },
        "outputId": "b1c03525-3168-4e96-8a1e-78214555d293"
      },
      "outputs": [
        {
          "output_type": "stream",
          "name": "stdout",
          "text": [
            "[0.45978236 0.13553109 0.11246917 0.03696855 0.57446681 0.\n",
            " 0.07397209 0.         0.59163186 0.43245224 0.73856122 0.\n",
            " 0.         0.74953094 0.97289498 0.        ]\n"
          ]
        }
      ],
      "source": [
        "print(Vtable_trained)"
      ]
    },
    {
      "cell_type": "markdown",
      "metadata": {
        "id": "JI8bzC7azyAq"
      },
      "source": [
        "**[Question 8 (5 Points)]**  \n",
        "Write a function to generate a visualization for the value function using a heatmap. In a few words, explain what you see."
      ]
    },
    {
      "cell_type": "code",
      "execution_count": 18,
      "metadata": {
        "id": "LUnArCcV0VMp"
      },
      "outputs": [],
      "source": [
        "import matplotlib.pyplot as plt\n",
        "\n",
        "def visualize(Vtable):\n",
        "  plt.imshow(np.reshape(Vtable, (-1, 4)), cmap='Greens')\n",
        "  plt.show()"
      ]
    },
    {
      "cell_type": "code",
      "execution_count": 19,
      "metadata": {
        "id": "N51kKbFFpGFh",
        "colab": {
          "base_uri": "https://localhost:8080/",
          "height": 269
        },
        "outputId": "09ad562d-b24d-44c5-96d9-5682237a39d5"
      },
      "outputs": [
        {
          "output_type": "display_data",
          "data": {
            "text/plain": [
              "<Figure size 432x288 with 1 Axes>"
            ],
            "image/png": "[encoded data removed]"
          },
          "metadata": {
            "needs_background": "light"
          }
        }
      ],
      "source": [
        "visualize(Vtable_trained)"
      ]
    },
    {
      "cell_type": "markdown",
      "metadata": {
        "id": "HyNca-10ruQm"
      },
      "source": [
        "**[Question 9 (5 Points)]**  \n",
        "Can we use a pure greedy policy for Q-learning? Explain."
      ]
    },
    {
      "cell_type": "markdown",
      "metadata": {
        "id": "JqX18Ic-siGm"
      },
      "source": [
        "**Answer:**\n",
        "\n",
        "using pure greedy will result in reduced exploration, as a result the algorithm might not find the best possible Q value for some Q's."
      ]
    },
    {
      "cell_type": "markdown",
      "metadata": {
        "id": "EVUwDSzC_YP8"
      },
      "source": [
        "**[Bonus Question (10 Points)]**  \n",
        "Think about the role of the discount factor in this environment and experiment.  \n",
        "1. Explain why it is not the best idea to set $\\gamma = 1$ for a navigation task. You might find it easier to reason about a deterministic (i.e., non-slippery) environment. (5 Points)\n",
        "2. If we had used $\\gamma = 1$, the value of states could be interpreted in a meaningful way. Think about what $V^*(s)$ would be if we had set $\\gamma = 1$ and trained until we got the optimal value function. (5 Points)"
      ]
    },
    {
      "cell_type": "markdown",
      "metadata": {
        "id": "GttKYjfu_cvg"
      },
      "source": [
        "**Answer:**\n",
        "<ol>\n",
        "<li>beacause if gamma = 1, the agent might never reach the goal state since it thinks that it will eventaually reach the goal state by going either way thus all such actions seem good enough since they will eventually reach the goal state and the agent may end up just going back and forth.</li>\n",
        "<li>When gamma = 1, $V^*(s)$ would end up having the value that we expect to get in the long term if we started from state s, provided that we can do infinite number of actions.</li>\n",
        "</ol>"
      ]
    },
    {
      "cell_type": "markdown",
      "metadata": {
        "id": "WLiFCIek6s8v"
      },
      "source": [
        "# Part II: Mountain Car Environment (15 point)"
      ]
    },
    {
      "cell_type": "markdown",
      "metadata": {
        "id": "7R36a4nH7MuZ"
      },
      "source": [
        "The Mountain Car MDP is a deterministic MDP that consists of a car placed stochastically at the bottom of a sinusoidal valley, with the only possible actions being the accelerations that can be applied to the car in either direction. The goal of the MDP is to strategically accelerate the car to reach the goal state on top of the right hill."
      ]
    },
    {
      "cell_type": "markdown",
      "metadata": {
        "id": "VlyLlwIG8qjw"
      },
      "source": [
        "lets create the environment."
      ]
    },
    {
      "cell_type": "code",
      "execution_count": 20,
      "metadata": {
        "id": "eBMSm62o8qBs"
      },
      "outputs": [],
      "source": [
        "env = gym.make(\"MountainCar-v0\", render_mode='rgb_array')"
      ]
    },
    {
      "cell_type": "markdown",
      "metadata": {
        "id": "CUOtuKcv8_Qw"
      },
      "source": [
        "The state of the car is represented by its velocity and position along the x axis. the velocity is a number between -0.07, 0.07 and the position is a number between -1.3, 0.6. There are 3 discrete deterministic actions: (0:Accelerate to the left, 1:Don’t accelerate, 2:Accelerate to the right)\n",
        "The starting position of the car is different each time we run the environment."
      ]
    },
    {
      "cell_type": "markdown",
      "metadata": {
        "id": "3exMYOjN9oza"
      },
      "source": [
        "In order to use the same Q learning algorithm on this environment we need to somehow discretize the states. We can easily do this by dividing the range of the observation into smaller range.   \n",
        "its important how small we divide these range. if the step size is too big we might not achieve a good accuracy and if the step size is too small we will have a bigger observation space.  "
      ]
    },
    {
      "cell_type": "markdown",
      "metadata": {
        "id": "dK9XEjBb-jTB"
      },
      "source": [
        "**[Question 10 (5 Points)]**  \n",
        "implement the next  discretization function."
      ]
    },
    {
      "cell_type": "code",
      "execution_count": 21,
      "metadata": {
        "id": "VwdauAFa8-yi"
      },
      "outputs": [],
      "source": [
        "def discretize(x, min_value, step_size):\n",
        "    return int((x - min_value) / step_size)\n",
        "\n",
        "assert(discretize(0.222, 0.1, 0.1)==1)\n",
        "assert(discretize(0.134, 0.1, 0.1)==0) "
      ]
    },
    {
      "cell_type": "markdown",
      "metadata": {
        "id": "XeSrhR6t_b4-"
      },
      "source": [
        "we will use step size 0.1 for the position and the step size 0.01 for the velocity. the following function will discretize a state using the function you implemented above."
      ]
    },
    {
      "cell_type": "code",
      "execution_count": 22,
      "metadata": {
        "id": "KltzG8ay7QUO"
      },
      "outputs": [],
      "source": [
        "def discretize_state(state, step_velocity=0.01, step_position=0.1):\n",
        "  position , velocity = state\n",
        "  position = discretize(position, -1.3, step_position)\n",
        "  velocity = discretize(velocity, -0.07, step_velocity)\n",
        "  if position==19:\n",
        "    position = 18\n",
        "  if velocity==14:\n",
        "    velocity = 13\n",
        "  return (position, velocity)"
      ]
    },
    {
      "cell_type": "markdown",
      "metadata": {
        "id": "pyBvbk-iAgbj"
      },
      "source": [
        "the function below will run the mountain car experiment and output a video. We will use it to run an agent with a random policy."
      ]
    },
    {
      "cell_type": "code",
      "execution_count": 23,
      "metadata": {
        "id": "sjZNzcBrAf4t",
        "colab": {
          "base_uri": "https://localhost:8080/",
          "height": 453
        },
        "outputId": "75327635-b69b-41c9-9645-cb6d2b5f43c6"
      },
      "outputs": [
        {
          "output_type": "stream",
          "name": "stderr",
          "text": [
            "WARNING:imageio_ffmpeg:IMAGEIO FFMPEG_WRITER WARNING: input image is not divisible by macro_block_size=16, resizing from (600, 400) to (608, 400) to ensure video compatibility with most codecs and players. To prevent resizing, make your input image divisible by the macro_block_size or set the macro_block_size to 1 (risking incompatibility).\n"
          ]
        },
        {
          "output_type": "execute_result",
          "data": {
            "text/plain": [
              "<IPython.core.display.HTML object>"
            ],
            "text/html": [
              "<video width=600 controls><source src=\"data:video/mp4;base64,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\"></video>"
            ]
          },
          "metadata": {},
          "execution_count": 23
        }
      ],
      "source": [
        "def record_video_mountain_car_env(env, Qtable, out_directory, fps=1, random_action=False, max_episode=500):\n",
        "  images = []  \n",
        "  truncated, done = False, False\n",
        "  state, info = env.reset(seed=random.randint(0,500))\n",
        "  state = discretize_state(state)\n",
        "  img = env.render()\n",
        "  images.append(img)\n",
        "  episode = 0\n",
        "  while episode < max_episode and not done:\n",
        "    # Take the action (index) that have the maximum expected future reward given that state\n",
        "    action = np.random.randint(3)  if random_action else np.argmax(Qtable[state[0]][state[1]][:])\n",
        "    state, reward, done, truncated, info = env.step(action)\n",
        "    state = discretize_state(state)\n",
        "    img = env.render()\n",
        "    images.append(img)\n",
        "    episode += 1\n",
        "  imageio.mimsave(out_directory, [np.array(img) for i, img in enumerate(images)], fps=fps)\n",
        "\n",
        "def show_video(video_path, video_width = 600):\n",
        "  video_file = open(video_path, \"r+b\").read()\n",
        "  video_url = f\"data:video/mp4;base64,{b64encode(video_file).decode()}\"\n",
        "  return HTML(f\"\"\"<video width={video_width} controls><source src=\"{video_url}\"></video>\"\"\")\n",
        "\n",
        "record_video_mountain_car_env(env, None, 'mountaincar_random.mp4', fps=15, random_action=True)\n",
        "show_video('mountaincar_random.mp4', video_width = 600)"
      ]
    },
    {
      "cell_type": "markdown",
      "metadata": {
        "id": "WIETFj_sDR5s"
      },
      "source": [
        "**[Question 11 (2 Points)]**  \n",
        "Implement the next functions like you did the previous part. "
      ]
    },
    {
      "cell_type": "code",
      "execution_count": 24,
      "metadata": {
        "id": "2w7fNw4NC2mj"
      },
      "outputs": [],
      "source": [
        "def initialize_q_table(step_size_velocity, step_size_pos, action_space):\n",
        "  # Qtable should be of the shape (discrete position value, discrete velocity value, action_no)\n",
        "  return np.zeros((int(np.ceil(1.9 / step_size_pos)), int(np.ceil(1.4 / step_size_velocity)), action_space))\n",
        "\n",
        "def epsilon_greedy_policy(Qtable, state, epsilon):\n",
        "  if np.random.rand() <= 1 - epsilon:\n",
        "    return np.argmax(Qtable[state])\n",
        "  return np.random.randint(Qtable[state].shape[0])\n",
        "\n",
        "Qtable = initialize_q_table(0.01, 0.1, 3)"
      ]
    },
    {
      "cell_type": "markdown",
      "metadata": {
        "id": "RWSMO5cIE6NE"
      },
      "source": [
        "**[Question 12 (8 Points)]**  \n",
        "Change the previous train function so it works in this environment."
      ]
    },
    {
      "cell_type": "code",
      "execution_count": 25,
      "metadata": {
        "id": "zAHvbfxpC9XR"
      },
      "outputs": [],
      "source": [
        "def train(n_training_episodes, min_epsilon, max_epsilon, decay_rate, env, max_steps, Qtable):\n",
        "  for episode in tqdm(range(n_training_episodes)):\n",
        "    # Adjust epsilon\n",
        "    epsilon = min_epsilon + (max_epsilon - min_epsilon)*np.exp(-decay_rate*episode)\n",
        "    # Reset the environment\n",
        "    state, info = env.reset()\n",
        "    state = discretize_state(state)\n",
        "    step = 0\n",
        "    done = False\n",
        "\n",
        "    # repeat\n",
        "    for step in range(max_steps):\n",
        "      action = epsilon_greedy_policy(Qtable, state, epsilon)\n",
        "      observation, reward, terminated, truncated, info = env.step(action)\n",
        "      next_state = discretize_state(observation)\n",
        "      Qtable[state][action] += learning_rate * (reward + gamma * np.max(Qtable[next_state]) - Qtable[state][action])\n",
        "      if terminated:\n",
        "        break\n",
        "      state = next_state\n",
        "  return Qtable"
      ]
    },
    {
      "cell_type": "markdown",
      "metadata": {
        "id": "3CHmdB4BFYow"
      },
      "source": [
        "Now lets train our model. You can change the hyperparameters if you want."
      ]
    },
    {
      "cell_type": "code",
      "execution_count": 26,
      "metadata": {
        "id": "tBoHqoLhEnJt"
      },
      "outputs": [],
      "source": [
        "# Training parameters\n",
        "n_training_episodes = 20_000  # Total training episodes\n",
        "learning_rate = 0.1           # Learning rate\n",
        "\n",
        "# Environment parameters\n",
        "max_steps = 200               # Max steps per episode\n",
        "gamma = 0.95                 # Discounting rate\n",
        "\n",
        "# Exploration parameters\n",
        "max_epsilon = 1.0             # Exploration probability at start\n",
        "min_epsilon = 0.01            # Minimum exploration probability \n",
        "decay_rate = 2e-3            # Exponential decay rate for exploration prob"
      ]
    },
    {
      "cell_type": "code",
      "execution_count": 27,
      "metadata": {
        "id": "6emQyg3JFg1n",
        "colab": {
          "base_uri": "https://localhost:8080/",
          "height": 49,
          "referenced_widgets": [
            "f65e94a00a7442629789ea7ef76bab3a",
            "bc446e97d1f546d09f37eddc3d27f050",
            "069fad6c55fd4ef087bef69a634896cc",
            "b90a043d4c8e4ff29a6f39ba3300d82a",
            "7681b177baee4a459eb9ba473c7f2dfc",
            "cbd0f1dd62724914a553375b0a173c12",
            "a72ccb867bc74f82adcc6660df9d8661",
            "832efe294b21496e81786034ab7461e4",
            "c58b74bfaad740488656bd7d9831b980",
            "96fbf2191516478c83a86ee2a4fb93c8",
            "c87c18ffe43441af999439abd9a23835"
          ]
        },
        "outputId": "ad66cbbb-cdb1-4f44-e523-f8d599b91b43"
      },
      "outputs": [
        {
          "output_type": "display_data",
          "data": {
            "text/plain": [
              "  0%|          | 0/20000 [00:00<?, ?it/s]"
            ],
            "application/vnd.jupyter.widget-view+json": {
              "version_major": 2,
              "version_minor": 0,
              "model_id": "f65e94a00a7442629789ea7ef76bab3a"
            }
          },
          "metadata": {}
        }
      ],
      "source": [
        "Qtable_trained = train(n_training_episodes, min_epsilon, max_epsilon, decay_rate, env, max_steps, Qtable)"
      ]
    },
    {
      "cell_type": "markdown",
      "metadata": {
        "id": "wlH7J3jQg5Ra"
      },
      "source": [
        "Now let us inspect how well our model is doing. In order to pass the assignment, the car must reach the goal."
      ]
    },
    {
      "cell_type": "code",
      "execution_count": 28,
      "metadata": {
        "id": "TKkzIikqHOXw",
        "colab": {
          "base_uri": "https://localhost:8080/",
          "height": 453
        },
        "outputId": "31f85082-2e7d-4cb1-ca57-8af1c15ba021"
      },
      "outputs": [
        {
          "output_type": "stream",
          "name": "stderr",
          "text": [
            "WARNING:imageio_ffmpeg:IMAGEIO FFMPEG_WRITER WARNING: input image is not divisible by macro_block_size=16, resizing from (600, 400) to (608, 400) to ensure video compatibility with most codecs and players. To prevent resizing, make your input image divisible by the macro_block_size or set the macro_block_size to 1 (risking incompatibility).\n"
          ]
        },
        {
          "output_type": "execute_result",
          "data": {
            "text/plain": [
              "<IPython.core.display.HTML object>"
            ],
            "text/html": [
              "<video width=600 controls><source src=\"data:video/mp4;base64,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\"></video>"
            ]
          },
          "metadata": {},
          "execution_count": 28
        }
      ],
      "source": [
        "record_video_mountain_car_env(env, Qtable_trained, 'mountaincar_random.mp4', fps=15)\n",
        "show_video('mountaincar_random.mp4', video_width = 600)"
      ]
    }
  ],
  "metadata": {
    "colab": {
      "provenance": []
    },
    "kernelspec": {
      "display_name": "Python 3",
      "language": "python",
      "name": "python3"
    },
    "language_info": {
      "codemirror_mode": {
        "name": "ipython",
        "version": 3
      },
      "file_extension": ".py",
      "mimetype": "text/x-python",
      "name": "python",
      "nbconvert_exporter": "python",
      "pygments_lexer": "ipython3",
      "version": "3.8.5"
    },
    "widgets": {
      "application/vnd.jupyter.widget-state+json": {
        "0ae8a0af9cd74161893554c95ae17df2": {
          "model_module": "@jupyter-widgets/controls",
          "model_name": "HBoxModel",
          "model_module_version": "1.5.0",
          "state": {
            "_dom_classes": [],
            "_model_module": "@jupyter-widgets/controls",
            "_model_module_version": "1.5.0",
            "_model_name": "HBoxModel",
            "_view_count": null,
            "_view_module": "@jupyter-widgets/controls",
            "_view_module_version": "1.5.0",
            "_view_name": "HBoxView",
            "box_style": "",
            "children": [
              "IPY_MODEL_3b5192bb6d084ba48c6bc5e6fdf91e70",
              "IPY_MODEL_9897a58f4d4a4953bce0deed2fd60a07",
              "IPY_MODEL_cc78f8d3b53f4e1b86ec668d985955d6"
            ],
            "layout": "IPY_MODEL_ed7002426d904d378ba69b2be43b2258"
          }
        },
        "3b5192bb6d084ba48c6bc5e6fdf91e70": {
          "model_module": "@jupyter-widgets/controls",
          "model_name": "HTMLModel",
          "model_module_version": "1.5.0",
          "state": {
            "_dom_classes": [],
            "_model_module": "@jupyter-widgets/controls",
            "_model_module_version": "1.5.0",
            "_model_name": "HTMLModel",
            "_view_count": null,
            "_view_module": "@jupyter-widgets/controls",
            "_view_module_version": "1.5.0",
            "_view_name": "HTMLView",
            "description": "",
            "description_tooltip": null,
            "layout": "IPY_MODEL_a07cd11dbb59481bab7386b9e5b94ae5",
            "placeholder": "​",
            "style": "IPY_MODEL_699ab3a95c30486cb4528f66298fa03e",
            "value": "100%"
          }
        },
        "9897a58f4d4a4953bce0deed2fd60a07": {
          "model_module": "@jupyter-widgets/controls",
          "model_name": "FloatProgressModel",
          "model_module_version": "1.5.0",
          "state": {
            "_dom_classes": [],
            "_model_module": "@jupyter-widgets/controls",
            "_model_module_version": "1.5.0",
            "_model_name": "FloatProgressModel",
            "_view_count": null,
            "_view_module": "@jupyter-widgets/controls",
            "_view_module_version": "1.5.0",
            "_view_name": "ProgressView",
            "bar_style": "success",
            "description": "",
            "description_tooltip": null,
            "layout": "IPY_MODEL_583dc41a71f343ef81a7b6237db4ae75",
            "max": 50000,
            "min": 0,
            "orientation": "horizontal",
            "style": "IPY_MODEL_9290c2f666d341829723c34102ac6dab",
            "value": 50000
          }
        },
        "cc78f8d3b53f4e1b86ec668d985955d6": {
          "model_module": "@jupyter-widgets/controls",
          "model_name": "HTMLModel",
          "model_module_version": "1.5.0",
          "state": {
            "_dom_classes": [],
            "_model_module": "@jupyter-widgets/controls",
            "_model_module_version": "1.5.0",
            "_model_name": "HTMLModel",
            "_view_count": null,
            "_view_module": "@jupyter-widgets/controls",
            "_view_module_version": "1.5.0",
            "_view_name": "HTMLView",
            "description": "",
            "description_tooltip": null,
            "layout": "IPY_MODEL_b6914df2512742cda433835f5b1b17e7",
            "placeholder": "​",
            "style": "IPY_MODEL_871c657ec76447279799c74a72301c87",
            "value": " 50000/50000 [01:16&lt;00:00, 662.01it/s]"
          }
        },
        "ed7002426d904d378ba69b2be43b2258": {
          "model_module": "@jupyter-widgets/base",
          "model_name": "LayoutModel",
          "model_module_version": "1.2.0",
          "state": {
            "_model_module": "@jupyter-widgets/base",
            "_model_module_version": "1.2.0",
            "_model_name": "LayoutModel",
            "_view_count": null,
            "_view_module": "@jupyter-widgets/base",
            "_view_module_version": "1.2.0",
            "_view_name": "LayoutView",
            "align_content": null,
            "align_items": null,
            "align_self": null,
            "border": null,
            "bottom": null,
            "display": null,
            "flex": null,
            "flex_flow": null,
            "grid_area": null,
            "grid_auto_columns": null,
            "grid_auto_flow": null,
            "grid_auto_rows": null,
            "grid_column": null,
            "grid_gap": null,
            "grid_row": null,
            "grid_template_areas": null,
            "grid_template_columns": null,
            "grid_template_rows": null,
            "height": null,
            "justify_content": null,
            "justify_items": null,
            "left": null,
            "margin": null,
            "max_height": null,
            "max_width": null,
            "min_height": null,
            "min_width": null,
            "object_fit": null,
            "object_position": null,
            "order": null,
            "overflow": null,
            "overflow_x": null,
            "overflow_y": null,
            "padding": null,
            "right": null,
            "top": null,
            "visibility": null,
            "width": null
          }
        },
        "a07cd11dbb59481bab7386b9e5b94ae5": {
          "model_module": "@jupyter-widgets/base",
          "model_name": "LayoutModel",
          "model_module_version": "1.2.0",
          "state": {
            "_model_module": "@jupyter-widgets/base",
            "_model_module_version": "1.2.0",
            "_model_name": "LayoutModel",
            "_view_count": null,
            "_view_module": "@jupyter-widgets/base",
            "_view_module_version": "1.2.0",
            "_view_name": "LayoutView",
            "align_content": null,
            "align_items": null,
            "align_self": null,
            "border": null,
            "bottom": null,
            "display": null,
            "flex": null,
            "flex_flow": null,
            "grid_area": null,
            "grid_auto_columns": null,
            "grid_auto_flow": null,
            "grid_auto_rows": null,
            "grid_column": null,
            "grid_gap": null,
            "grid_row": null,
            "grid_template_areas": null,
            "grid_template_columns": null,
            "grid_template_rows": null,
            "height": null,
            "justify_content": null,
            "justify_items": null,
            "left": null,
            "margin": null,
            "max_height": null,
            "max_width": null,
            "min_height": null,
            "min_width": null,
            "object_fit": null,
            "object_position": null,
            "order": null,
            "overflow": null,
            "overflow_x": null,
            "overflow_y": null,
            "padding": null,
            "right": null,
            "top": null,
            "visibility": null,
            "width": null
          }
        },
        "699ab3a95c30486cb4528f66298fa03e": {
          "model_module": "@jupyter-widgets/controls",
          "model_name": "DescriptionStyleModel",
          "model_module_version": "1.5.0",
          "state": {
            "_model_module": "@jupyter-widgets/controls",
            "_model_module_version": "1.5.0",
            "_model_name": "DescriptionStyleModel",
            "_view_count": null,
            "_view_module": "@jupyter-widgets/base",
            "_view_module_version": "1.2.0",
            "_view_name": "StyleView",
            "description_width": ""
          }
        },
        "583dc41a71f343ef81a7b6237db4ae75": {
          "model_module": "@jupyter-widgets/base",
          "model_name": "LayoutModel",
          "model_module_version": "1.2.0",
          "state": {
            "_model_module": "@jupyter-widgets/base",
            "_model_module_version": "1.2.0",
            "_model_name": "LayoutModel",
            "_view_count": null,
            "_view_module": "@jupyter-widgets/base",
            "_view_module_version": "1.2.0",
            "_view_name": "LayoutView",
            "align_content": null,
            "align_items": null,
            "align_self": null,
            "border": null,
            "bottom": null,
            "display": null,
            "flex": null,
            "flex_flow": null,
            "grid_area": null,
            "grid_auto_columns": null,
            "grid_auto_flow": null,
            "grid_auto_rows": null,
            "grid_column": null,
            "grid_gap": null,
            "grid_row": null,
            "grid_template_areas": null,
            "grid_template_columns": null,
            "grid_template_rows": null,
            "height": null,
            "justify_content": null,
            "justify_items": null,
            "left": null,
            "margin": null,
            "max_height": null,
            "max_width": null,
            "min_height": null,
            "min_width": null,
            "object_fit": null,
            "object_position": null,
            "order": null,
            "overflow": null,
            "overflow_x": null,
            "overflow_y": null,
            "padding": null,
            "right": null,
            "top": null,
            "visibility": null,
            "width": null
          }
        },
        "9290c2f666d341829723c34102ac6dab": {
          "model_module": "@jupyter-widgets/controls",
          "model_name": "ProgressStyleModel",
          "model_module_version": "1.5.0",
          "state": {
            "_model_module": "@jupyter-widgets/controls",
            "_model_module_version": "1.5.0",
            "_model_name": "ProgressStyleModel",
            "_view_count": null,
            "_view_module": "@jupyter-widgets/base",
            "_view_module_version": "1.2.0",
            "_view_name": "StyleView",
            "bar_color": null,
            "description_width": ""
          }
        },
        "b6914df2512742cda433835f5b1b17e7": {
          "model_module": "@jupyter-widgets/base",
          "model_name": "LayoutModel",
          "model_module_version": "1.2.0",
          "state": {
            "_model_module": "@jupyter-widgets/base",
            "_model_module_version": "1.2.0",
            "_model_name": "LayoutModel",
            "_view_count": null,
            "_view_module": "@jupyter-widgets/base",
            "_view_module_version": "1.2.0",
            "_view_name": "LayoutView",
            "align_content": null,
            "align_items": null,
            "align_self": null,
            "border": null,
            "bottom": null,
            "display": null,
            "flex": null,
            "flex_flow": null,
            "grid_area": null,
            "grid_auto_columns": null,
            "grid_auto_flow": null,
            "grid_auto_rows": null,
            "grid_column": null,
            "grid_gap": null,
            "grid_row": null,
            "grid_template_areas": null,
            "grid_template_columns": null,
            "grid_template_rows": null,
            "height": null,
            "justify_content": null,
            "justify_items": null,
            "left": null,
            "margin": null,
            "max_height": null,
            "max_width": null,
            "min_height": null,
            "min_width": null,
            "object_fit": null,
            "object_position": null,
            "order": null,
            "overflow": null,
            "overflow_x": null,
            "overflow_y": null,
            "padding": null,
            "right": null,
            "top": null,
            "visibility": null,
            "width": null
          }
        },
        "871c657ec76447279799c74a72301c87": {
          "model_module": "@jupyter-widgets/controls",
          "model_name": "DescriptionStyleModel",
          "model_module_version": "1.5.0",
          "state": {
            "_model_module": "@jupyter-widgets/controls",
            "_model_module_version": "1.5.0",
            "_model_name": "DescriptionStyleModel",
            "_view_count": null,
            "_view_module": "@jupyter-widgets/base",
            "_view_module_version": "1.2.0",
            "_view_name": "StyleView",
            "description_width": ""
          }
        },
        "bb3c38cf237849a6a213a7e3d6fcfb19": {
          "model_module": "@jupyter-widgets/controls",
          "model_name": "HBoxModel",
          "model_module_version": "1.5.0",
          "state": {
            "_dom_classes": [],
            "_model_module": "@jupyter-widgets/controls",
            "_model_module_version": "1.5.0",
            "_model_name": "HBoxModel",
            "_view_count": null,
            "_view_module": "@jupyter-widgets/controls",
            "_view_module_version": "1.5.0",
            "_view_name": "HBoxView",
            "box_style": "",
            "children": [
              "IPY_MODEL_b819cde69694454b8899cbbce79b76ae",
              "IPY_MODEL_d34058a757f745ee9c30e2d489340c35",
              "IPY_MODEL_b540fc633e94437bb146ca9ebffb2204"
            ],
            "layout": "IPY_MODEL_9ccb8635af7f4bd09b9ac84ab12d1e50"
          }
        },
        "b819cde69694454b8899cbbce79b76ae": {
          "model_module": "@jupyter-widgets/controls",
          "model_name": "HTMLModel",
          "model_module_version": "1.5.0",
          "state": {
            "_dom_classes": [],
            "_model_module": "@jupyter-widgets/controls",
            "_model_module_version": "1.5.0",
            "_model_name": "HTMLModel",
            "_view_count": null,
            "_view_module": "@jupyter-widgets/controls",
            "_view_module_version": "1.5.0",
            "_view_name": "HTMLView",
            "description": "",
            "description_tooltip": null,
            "layout": "IPY_MODEL_1dd61977bf974fe5983bd97db90761c5",
            "placeholder": "​",
            "style": "IPY_MODEL_55b1812068c445ea89373ff5815ac1f5",
            "value": "100%"
          }
        },
        "d34058a757f745ee9c30e2d489340c35": {
          "model_module": "@jupyter-widgets/controls",
          "model_name": "FloatProgressModel",
          "model_module_version": "1.5.0",
          "state": {
            "_dom_classes": [],
            "_model_module": "@jupyter-widgets/controls",
            "_model_module_version": "1.5.0",
            "_model_name": "FloatProgressModel",
            "_view_count": null,
            "_view_module": "@jupyter-widgets/controls",
            "_view_module_version": "1.5.0",
            "_view_name": "ProgressView",
            "bar_style": "success",
            "description": "",
            "description_tooltip": null,
            "layout": "IPY_MODEL_093a6adb10154edaa494e761708e0047",
            "max": 10000,
            "min": 0,
            "orientation": "horizontal",
            "style": "IPY_MODEL_55591ec95ff24d5a9a042ed85c37d06c",
            "value": 10000
          }
        },
        "b540fc633e94437bb146ca9ebffb2204": {
          "model_module": "@jupyter-widgets/controls",
          "model_name": "HTMLModel",
          "model_module_version": "1.5.0",
          "state": {
            "_dom_classes": [],
            "_model_module": "@jupyter-widgets/controls",
            "_model_module_version": "1.5.0",
            "_model_name": "HTMLModel",
            "_view_count": null,
            "_view_module": "@jupyter-widgets/controls",
            "_view_module_version": "1.5.0",
            "_view_name": "HTMLView",
            "description": "",
            "description_tooltip": null,
            "layout": "IPY_MODEL_2f62e8832c0849d680de63dd6dd0f667",
            "placeholder": "​",
            "style": "IPY_MODEL_f775821f4e9643c7a1d00281a394474a",
            "value": " 10000/10000 [00:09&lt;00:00, 799.77it/s]"
          }
        },
        "9ccb8635af7f4bd09b9ac84ab12d1e50": {
          "model_module": "@jupyter-widgets/base",
          "model_name": "LayoutModel",
          "model_module_version": "1.2.0",
          "state": {
            "_model_module": "@jupyter-widgets/base",
            "_model_module_version": "1.2.0",
            "_model_name": "LayoutModel",
            "_view_count": null,
            "_view_module": "@jupyter-widgets/base",
            "_view_module_version": "1.2.0",
            "_view_name": "LayoutView",
            "align_content": null,
            "align_items": null,
            "align_self": null,
            "border": null,
            "bottom": null,
            "display": null,
            "flex": null,
            "flex_flow": null,
            "grid_area": null,
            "grid_auto_columns": null,
            "grid_auto_flow": null,
            "grid_auto_rows": null,
            "grid_column": null,
            "grid_gap": null,
            "grid_row": null,
            "grid_template_areas": null,
            "grid_template_columns": null,
            "grid_template_rows": null,
            "height": null,
            "justify_content": null,
            "justify_items": null,
            "left": null,
            "margin": null,
            "max_height": null,
            "max_width": null,
            "min_height": null,
            "min_width": null,
            "object_fit": null,
            "object_position": null,
            "order": null,
            "overflow": null,
            "overflow_x": null,
            "overflow_y": null,
            "padding": null,
            "right": null,
            "top": null,
            "visibility": null,
            "width": null
          }
        },
        "1dd61977bf974fe5983bd97db90761c5": {
          "model_module": "@jupyter-widgets/base",
          "model_name": "LayoutModel",
          "model_module_version": "1.2.0",
          "state": {
            "_model_module": "@jupyter-widgets/base",
            "_model_module_version": "1.2.0",
            "_model_name": "LayoutModel",
            "_view_count": null,
            "_view_module": "@jupyter-widgets/base",
            "_view_module_version": "1.2.0",
            "_view_name": "LayoutView",
            "align_content": null,
            "align_items": null,
            "align_self": null,
            "border": null,
            "bottom": null,
            "display": null,
            "flex": null,
            "flex_flow": null,
            "grid_area": null,
            "grid_auto_columns": null,
            "grid_auto_flow": null,
            "grid_auto_rows": null,
            "grid_column": null,
            "grid_gap": null,
            "grid_row": null,
            "grid_template_areas": null,
            "grid_template_columns": null,
            "grid_template_rows": null,
            "height": null,
            "justify_content": null,
            "justify_items": null,
            "left": null,
            "margin": null,
            "max_height": null,
            "max_width": null,
            "min_height": null,
            "min_width": null,
            "object_fit": null,
            "object_position": null,
            "order": null,
            "overflow": null,
            "overflow_x": null,
            "overflow_y": null,
            "padding": null,
            "right": null,
            "top": null,
            "visibility": null,
            "width": null
          }
        },
        "55b1812068c445ea89373ff5815ac1f5": {
          "model_module": "@jupyter-widgets/controls",
          "model_name": "DescriptionStyleModel",
          "model_module_version": "1.5.0",
          "state": {
            "_model_module": "@jupyter-widgets/controls",
            "_model_module_version": "1.5.0",
            "_model_name": "DescriptionStyleModel",
            "_view_count": null,
            "_view_module": "@jupyter-widgets/base",
            "_view_module_version": "1.2.0",
            "_view_name": "StyleView",
            "description_width": ""
          }
        },
        "093a6adb10154edaa494e761708e0047": {
          "model_module": "@jupyter-widgets/base",
          "model_name": "LayoutModel",
          "model_module_version": "1.2.0",
          "state": {
            "_model_module": "@jupyter-widgets/base",
            "_model_module_version": "1.2.0",
            "_model_name": "LayoutModel",
            "_view_count": null,
            "_view_module": "@jupyter-widgets/base",
            "_view_module_version": "1.2.0",
            "_view_name": "LayoutView",
            "align_content": null,
            "align_items": null,
            "align_self": null,
            "border": null,
            "bottom": null,
            "display": null,
            "flex": null,
            "flex_flow": null,
            "grid_area": null,
            "grid_auto_columns": null,
            "grid_auto_flow": null,
            "grid_auto_rows": null,
            "grid_column": null,
            "grid_gap": null,
            "grid_row": null,
            "grid_template_areas": null,
            "grid_template_columns": null,
            "grid_template_rows": null,
            "height": null,
            "justify_content": null,
            "justify_items": null,
            "left": null,
            "margin": null,
            "max_height": null,
            "max_width": null,
            "min_height": null,
            "min_width": null,
            "object_fit": null,
            "object_position": null,
            "order": null,
            "overflow": null,
            "overflow_x": null,
            "overflow_y": null,
            "padding": null,
            "right": null,
            "top": null,
            "visibility": null,
            "width": null
          }
        },
        "55591ec95ff24d5a9a042ed85c37d06c": {
          "model_module": "@jupyter-widgets/controls",
          "model_name": "ProgressStyleModel",
          "model_module_version": "1.5.0",
          "state": {
            "_model_module": "@jupyter-widgets/controls",
            "_model_module_version": "1.5.0",
            "_model_name": "ProgressStyleModel",
            "_view_count": null,
            "_view_module": "@jupyter-widgets/base",
            "_view_module_version": "1.2.0",
            "_view_name": "StyleView",
            "bar_color": null,
            "description_width": ""
          }
        },
        "2f62e8832c0849d680de63dd6dd0f667": {
          "model_module": "@jupyter-widgets/base",
          "model_name": "LayoutModel",
          "model_module_version": "1.2.0",
          "state": {
            "_model_module": "@jupyter-widgets/base",
            "_model_module_version": "1.2.0",
            "_model_name": "LayoutModel",
            "_view_count": null,
            "_view_module": "@jupyter-widgets/base",
            "_view_module_version": "1.2.0",
            "_view_name": "LayoutView",
            "align_content": null,
            "align_items": null,
            "align_self": null,
            "border": null,
            "bottom": null,
            "display": null,
            "flex": null,
            "flex_flow": null,
            "grid_area": null,
            "grid_auto_columns": null,
            "grid_auto_flow": null,
            "grid_auto_rows": null,
            "grid_column": null,
            "grid_gap": null,
            "grid_row": null,
            "grid_template_areas": null,
            "grid_template_columns": null,
            "grid_template_rows": null,
            "height": null,
            "justify_content": null,
            "justify_items": null,
            "left": null,
            "margin": null,
            "max_height": null,
            "max_width": null,
            "min_height": null,
            "min_width": null,
            "object_fit": null,
            "object_position": null,
            "order": null,
            "overflow": null,
            "overflow_x": null,
            "overflow_y": null,
            "padding": null,
            "right": null,
            "top": null,
            "visibility": null,
            "width": null
          }
        },
        "f775821f4e9643c7a1d00281a394474a": {
          "model_module": "@jupyter-widgets/controls",
          "model_name": "DescriptionStyleModel",
          "model_module_version": "1.5.0",
          "state": {
            "_model_module": "@jupyter-widgets/controls",
            "_model_module_version": "1.5.0",
            "_model_name": "DescriptionStyleModel",
            "_view_count": null,
            "_view_module": "@jupyter-widgets/base",
            "_view_module_version": "1.2.0",
            "_view_name": "StyleView",
            "description_width": ""
          }
        },
        "f65e94a00a7442629789ea7ef76bab3a": {
          "model_module": "@jupyter-widgets/controls",
          "model_name": "HBoxModel",
          "model_module_version": "1.5.0",
          "state": {
            "_dom_classes": [],
            "_model_module": "@jupyter-widgets/controls",
            "_model_module_version": "1.5.0",
            "_model_name": "HBoxModel",
            "_view_count": null,
            "_view_module": "@jupyter-widgets/controls",
            "_view_module_version": "1.5.0",
            "_view_name": "HBoxView",
            "box_style": "",
            "children": [
              "IPY_MODEL_bc446e97d1f546d09f37eddc3d27f050",
              "IPY_MODEL_069fad6c55fd4ef087bef69a634896cc",
              "IPY_MODEL_b90a043d4c8e4ff29a6f39ba3300d82a"
            ],
            "layout": "IPY_MODEL_7681b177baee4a459eb9ba473c7f2dfc"
          }
        },
        "bc446e97d1f546d09f37eddc3d27f050": {
          "model_module": "@jupyter-widgets/controls",
          "model_name": "HTMLModel",
          "model_module_version": "1.5.0",
          "state": {
            "_dom_classes": [],
            "_model_module": "@jupyter-widgets/controls",
            "_model_module_version": "1.5.0",
            "_model_name": "HTMLModel",
            "_view_count": null,
            "_view_module": "@jupyter-widgets/controls",
            "_view_module_version": "1.5.0",
            "_view_name": "HTMLView",
            "description": "",
            "description_tooltip": null,
            "layout": "IPY_MODEL_cbd0f1dd62724914a553375b0a173c12",
            "placeholder": "​",
            "style": "IPY_MODEL_a72ccb867bc74f82adcc6660df9d8661",
            "value": "100%"
          }
        },
        "069fad6c55fd4ef087bef69a634896cc": {
          "model_module": "@jupyter-widgets/controls",
          "model_name": "FloatProgressModel",
          "model_module_version": "1.5.0",
          "state": {
            "_dom_classes": [],
            "_model_module": "@jupyter-widgets/controls",
            "_model_module_version": "1.5.0",
            "_model_name": "FloatProgressModel",
            "_view_count": null,
            "_view_module": "@jupyter-widgets/controls",
            "_view_module_version": "1.5.0",
            "_view_name": "ProgressView",
            "bar_style": "success",
            "description": "",
            "description_tooltip": null,
            "layout": "IPY_MODEL_832efe294b21496e81786034ab7461e4",
            "max": 20000,
            "min": 0,
            "orientation": "horizontal",
            "style": "IPY_MODEL_c58b74bfaad740488656bd7d9831b980",
            "value": 20000
          }
        },
        "b90a043d4c8e4ff29a6f39ba3300d82a": {
          "model_module": "@jupyter-widgets/controls",
          "model_name": "HTMLModel",
          "model_module_version": "1.5.0",
          "state": {
            "_dom_classes": [],
            "_model_module": "@jupyter-widgets/controls",
            "_model_module_version": "1.5.0",
            "_model_name": "HTMLModel",
            "_view_count": null,
            "_view_module": "@jupyter-widgets/controls",
            "_view_module_version": "1.5.0",
            "_view_name": "HTMLView",
            "description": "",
            "description_tooltip": null,
            "layout": "IPY_MODEL_96fbf2191516478c83a86ee2a4fb93c8",
            "placeholder": "​",
            "style": "IPY_MODEL_c87c18ffe43441af999439abd9a23835",
            "value": " 20000/20000 [12:31&lt;00:00, 58.84it/s]"
          }
        },
        "7681b177baee4a459eb9ba473c7f2dfc": {
          "model_module": "@jupyter-widgets/base",
          "model_name": "LayoutModel",
          "model_module_version": "1.2.0",
          "state": {
            "_model_module": "@jupyter-widgets/base",
            "_model_module_version": "1.2.0",
            "_model_name": "LayoutModel",
            "_view_count": null,
            "_view_module": "@jupyter-widgets/base",
            "_view_module_version": "1.2.0",
            "_view_name": "LayoutView",
            "align_content": null,
            "align_items": null,
            "align_self": null,
            "border": null,
            "bottom": null,
            "display": null,
            "flex": null,
            "flex_flow": null,
            "grid_area": null,
            "grid_auto_columns": null,
            "grid_auto_flow": null,
            "grid_auto_rows": null,
            "grid_column": null,
            "grid_gap": null,
            "grid_row": null,
            "grid_template_areas": null,
            "grid_template_columns": null,
            "grid_template_rows": null,
            "height": null,
            "justify_content": null,
            "justify_items": null,
            "left": null,
            "margin": null,
            "max_height": null,
            "max_width": null,
            "min_height": null,
            "min_width": null,
            "object_fit": null,
            "object_position": null,
            "order": null,
            "overflow": null,
            "overflow_x": null,
            "overflow_y": null,
            "padding": null,
            "right": null,
            "top": null,
            "visibility": null,
            "width": null
          }
        },
        "cbd0f1dd62724914a553375b0a173c12": {
          "model_module": "@jupyter-widgets/base",
          "model_name": "LayoutModel",
          "model_module_version": "1.2.0",
          "state": {
            "_model_module": "@jupyter-widgets/base",
            "_model_module_version": "1.2.0",
            "_model_name": "LayoutModel",
            "_view_count": null,
            "_view_module": "@jupyter-widgets/base",
            "_view_module_version": "1.2.0",
            "_view_name": "LayoutView",
            "align_content": null,
            "align_items": null,
            "align_self": null,
            "border": null,
            "bottom": null,
            "display": null,
            "flex": null,
            "flex_flow": null,
            "grid_area": null,
            "grid_auto_columns": null,
            "grid_auto_flow": null,
            "grid_auto_rows": null,
            "grid_column": null,
            "grid_gap": null,
            "grid_row": null,
            "grid_template_areas": null,
            "grid_template_columns": null,
            "grid_template_rows": null,
            "height": null,
            "justify_content": null,
            "justify_items": null,
            "left": null,
            "margin": null,
            "max_height": null,
            "max_width": null,
            "min_height": null,
            "min_width": null,
            "object_fit": null,
            "object_position": null,
            "order": null,
            "overflow": null,
            "overflow_x": null,
            "overflow_y": null,
            "padding": null,
            "right": null,
            "top": null,
            "visibility": null,
            "width": null
          }
        },
        "a72ccb867bc74f82adcc6660df9d8661": {
          "model_module": "@jupyter-widgets/controls",
          "model_name": "DescriptionStyleModel",
          "model_module_version": "1.5.0",
          "state": {
            "_model_module": "@jupyter-widgets/controls",
            "_model_module_version": "1.5.0",
            "_model_name": "DescriptionStyleModel",
            "_view_count": null,
            "_view_module": "@jupyter-widgets/base",
            "_view_module_version": "1.2.0",
            "_view_name": "StyleView",
            "description_width": ""
          }
        },
        "832efe294b21496e81786034ab7461e4": {
          "model_module": "@jupyter-widgets/base",
          "model_name": "LayoutModel",
          "model_module_version": "1.2.0",
          "state": {
            "_model_module": "@jupyter-widgets/base",
            "_model_module_version": "1.2.0",
            "_model_name": "LayoutModel",
            "_view_count": null,
            "_view_module": "@jupyter-widgets/base",
            "_view_module_version": "1.2.0",
            "_view_name": "LayoutView",
            "align_content": null,
            "align_items": null,
            "align_self": null,
            "border": null,
            "bottom": null,
            "display": null,
            "flex": null,
            "flex_flow": null,
            "grid_area": null,
            "grid_auto_columns": null,
            "grid_auto_flow": null,
            "grid_auto_rows": null,
            "grid_column": null,
            "grid_gap": null,
            "grid_row": null,
            "grid_template_areas": null,
            "grid_template_columns": null,
            "grid_template_rows": null,
            "height": null,
            "justify_content": null,
            "justify_items": null,
            "left": null,
            "margin": null,
            "max_height": null,
            "max_width": null,
            "min_height": null,
            "min_width": null,
            "object_fit": null,
            "object_position": null,
            "order": null,
            "overflow": null,
            "overflow_x": null,
            "overflow_y": null,
            "padding": null,
            "right": null,
            "top": null,
            "visibility": null,
            "width": null
          }
        },
        "c58b74bfaad740488656bd7d9831b980": {
          "model_module": "@jupyter-widgets/controls",
          "model_name": "ProgressStyleModel",
          "model_module_version": "1.5.0",
          "state": {
            "_model_module": "@jupyter-widgets/controls",
            "_model_module_version": "1.5.0",
            "_model_name": "ProgressStyleModel",
            "_view_count": null,
            "_view_module": "@jupyter-widgets/base",
            "_view_module_version": "1.2.0",
            "_view_name": "StyleView",
            "bar_color": null,
            "description_width": ""
          }
        },
        "96fbf2191516478c83a86ee2a4fb93c8": {
          "model_module": "@jupyter-widgets/base",
          "model_name": "LayoutModel",
          "model_module_version": "1.2.0",
          "state": {
            "_model_module": "@jupyter-widgets/base",
            "_model_module_version": "1.2.0",
            "_model_name": "LayoutModel",
            "_view_count": null,
            "_view_module": "@jupyter-widgets/base",
            "_view_module_version": "1.2.0",
            "_view_name": "LayoutView",
            "align_content": null,
            "align_items": null,
            "align_self": null,
            "border": null,
            "bottom": null,
            "display": null,
            "flex": null,
            "flex_flow": null,
            "grid_area": null,
            "grid_auto_columns": null,
            "grid_auto_flow": null,
            "grid_auto_rows": null,
            "grid_column": null,
            "grid_gap": null,
            "grid_row": null,
            "grid_template_areas": null,
            "grid_template_columns": null,
            "grid_template_rows": null,
            "height": null,
            "justify_content": null,
            "justify_items": null,
            "left": null,
            "margin": null,
            "max_height": null,
            "max_width": null,
            "min_height": null,
            "min_width": null,
            "object_fit": null,
            "object_position": null,
            "order": null,
            "overflow": null,
            "overflow_x": null,
            "overflow_y": null,
            "padding": null,
            "right": null,
            "top": null,
            "visibility": null,
            "width": null
          }
        },
        "c87c18ffe43441af999439abd9a23835": {
          "model_module": "@jupyter-widgets/controls",
          "model_name": "DescriptionStyleModel",
          "model_module_version": "1.5.0",
          "state": {
            "_model_module": "@jupyter-widgets/controls",
            "_model_module_version": "1.5.0",
            "_model_name": "DescriptionStyleModel",
            "_view_count": null,
            "_view_module": "@jupyter-widgets/base",
            "_view_module_version": "1.2.0",
            "_view_name": "StyleView",
            "description_width": ""
          }
        }
      }
    }
  },
  "nbformat": 4,
  "nbformat_minor": 0
}